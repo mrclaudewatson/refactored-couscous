{
  "cells": [
    {
      "cell_type": "markdown",
      "metadata": {},
      "source": [
        "# **Lab 03** - ISA Assembler Design (Part 1)\n",
        "In this lab, you will be desgning an assembler to **pre-process** an assembly code.\n",
        "\n",
        "**TODO**\n",
        "* Pre-process assembly code ('example.asm') by completing Tasks 1 - 8\n",
        "* Save the pre-processed code to a '.txt' file (Task 9)\n",
        "\n",
        "_Note:_ Some portions of the code have already been implemented for you such as reading the assembly code file, converting the register names to their equivalent values and printing the processed instructions and labels. Also, assume that inputs for a task are outputs from the previous task."
      ]
    },
    {
      "cell_type": "code",
      "execution_count": null,
      "metadata": {
        "trusted": true
      },
      "outputs": [],
      "source": [
        "import re\n",
        "import csv\n",
        "\n",
        "## Function to read the assembly code file ##\n",
        "def read(filename):\n",
        "    '''read each line from a file'''\n",
        "    asm_inst = list()\n",
        "    with open(filename, 'r') as f:\n",
        "        for line in f:\n",
        "            asm_inst.append(line)\n",
        "    return asm_inst\n",
        "\n",
        "## Function to get the equivalent register's value\n",
        "def get_reg_value(reg_name):\n",
        "    '''gets the equivalen value for the respective register name''' \n",
        "    reg_abi = {\"zero\": 0,\"ra\": 1,\"sp\": 2,\"gp\": 3,\"tp\": 4,\"t0\": 5,\"t1\": 6,\"t2\": 7,\n",
        "               \"s0\": 8,\"s1\": 9,\"a0\": 10,\"a1\": 11,\"a2\": 12,\"a3\": 13,\"a4\": 14,\"a5\": 15,\n",
        "               \"a6\": 16,\"a7\": 17,\"s2\": 18,\"s3\": 19,\"s4\": 20,\"s5\": 21,\"s6\": 22,\"s7\": 23,\n",
        "               \"s8\": 24,\"s9\": 25,\"s10\": 26,\"s11\": 27,\"t3\": 28,\"t4\": 29,\"t5\": 30,\"t6\": 31}\n",
        "    if reg_name[0].lower() in 'x':\n",
        "        return int(reg_name[1:])\n",
        "    elif reg_name in reg_abi:\n",
        "        return reg_abi[reg_name]\n",
        "    elif reg_name.isdecimal():\n",
        "        return int(reg_name)\n",
        "    else:\n",
        "        raise ValueError(f\"Invalid register name/value: {reg_name}\")\n",
        "\n",
        "\n",
        "## FOR TESTING: Function to print the instructions\n",
        "def print_asm_inst(inst_asm):\n",
        "    '''prints list of instructions'''\n",
        "    print(\"Assembly Instructions:\")\n",
        "    if len(inst_asm) == 0:\n",
        "        print(None)\n",
        "    else:\n",
        "        for line in inst_asm:\n",
        "            print(line)\n",
        "\n",
        "## ## FOR TESTING: Function to print the labels\n",
        "def print_asm_labels(labels):\n",
        "    '''prints list of labels'''\n",
        "    print(\"Assembly Labels:\")\n",
        "    if len(labels) == 0:\n",
        "        print(None)\n",
        "    else:\n",
        "        max_len = max(5,max([len(label) for label in labels]))\n",
        "        print(f\"{'LABEL':<{max_len}} | {'VALUE':>5}\")\n",
        "        for label, val in labels.items():\n",
        "            print(f\"{label:<{max_len}} | {val:>5}\")\n",
        "  \n",
        "\n",
        "\n",
        "inst_asm = [] # list to store instructions\n",
        "labels   = [] # list to store labels\n",
        "\n",
        "## reads assembly code and stores it in list of lists 'inst_asm' where axis 0 (rows) corresponds \n",
        "## to each line in the file and axis 1 (columns) corresponds to each argument in that instruction\n",
        "filename = \"example.asm\"\n",
        "inst_asm = read(filename)\n",
        "print_asm_inst(inst_asm)"
      ]
    },
    {
      "cell_type": "markdown",
      "metadata": {},
      "source": [
        "## **Task 1**\n",
        "Implement a function to remove comments \n",
        "\n",
        "_Note:_ A comment in assembly code starts with a '#' symbol. You are required to remove all comments from the code. (_Hint:_ Use Regular expressions)"
      ]
    },
    {
      "cell_type": "code",
      "execution_count": null,
      "metadata": {
        "trusted": true
      },
      "outputs": [],
      "source": [
        "def remove_comments(inst_asm):\n",
        "    # -- enter your code here\n",
        "    \n",
        "    # -- end your code here\n",
        "\n",
        "## -- check your output by uncommenting the lines below -- ##\n",
        "# inst_asm = remove_comments(inst_asm)\n",
        "# print_asm_inst(inst_asm)"
      ]
    },
    {
      "cell_type": "markdown",
      "metadata": {},
      "source": [
        "## **Task 2**\n",
        "Implement a function to split each line (instruction or label) into separate arguments\n",
        "\n",
        "_Note:_ Using `inst_asm` list as input, split each line into separate arguments. Possible delimiters can be space, comma, parantheses. (_Hint:_ Use Regular expressions)\n",
        "\n",
        "_Example:_\n",
        "\n",
        "**addi a1, a2, 10**\n",
        "\n",
        "changes to:\n",
        "\n",
        "**['addi', 'a1', 'a2', '10']**\n",
        "\n",
        "\n"
      ]
    },
    {
      "cell_type": "code",
      "execution_count": null,
      "metadata": {
        "trusted": true
      },
      "outputs": [],
      "source": [
        "def split_arg(inst_asm):\n",
        "    # -- enter your code here\n",
        "   \n",
        "    # -- end your code here\n",
        "\n",
        "## -- check your output by uncommenting the lines below -- ##\n",
        "# inst_asm = split_arg(inst_asm)\n",
        "# print_asm_inst(inst_asm)"
      ]
    },
    {
      "cell_type": "markdown",
      "metadata": {},
      "source": [
        "## **Task 3**\n",
        "Implement a function to remove empty lines\n",
        "\n",
        "_Note:_ Using `inst_asm` list as input, remove all the empty lists"
      ]
    },
    {
      "cell_type": "code",
      "execution_count": null,
      "metadata": {
        "trusted": true
      },
      "outputs": [],
      "source": [
        "def remove_empty(inst_asm):\n",
        "    # -- enter your code here\n",
        "    \n",
        "    # -- end your code here\n",
        "    \n",
        "## -- check your output by uncommenting the lines below -- ##\n",
        "# inst_asm = remove_empty(inst_asm)\n",
        "# print_asm_inst(inst_asm)"
      ]
    },
    {
      "cell_type": "markdown",
      "metadata": {},
      "source": [
        "## **Task 4**\n",
        "Implement a function to reoder arguments for load/save instructions\n",
        "\n",
        "_Note:_ Load and save follow different instruction formats. Therefore, their arguments need to be re-ordered:\n",
        "\n",
        "_Example:_ For `load` instructions -\n",
        "\n",
        "**[instruction, rd, imm, rs1]**\n",
        "\n",
        "should be changed to the following standard format:\n",
        "\n",
        "**[instruction, rd, rs1, imm]**\n",
        "\n",
        "_Example:_ For `store` instructions -\n",
        "\n",
        "**[instruction, rs1, imm, rd]**\n",
        "\n",
        "should be changed to the following standard format:\n",
        "\n",
        "**[instruction, rd, rs1, imm]**"
      ]
    },
    {
      "cell_type": "code",
      "execution_count": null,
      "metadata": {
        "trusted": true
      },
      "outputs": [],
      "source": [
        "def loadsave_arg_reorder(inst_asm):\n",
        "    # -- enter your code here\n",
        "   \n",
        "    # -- end your code here\n",
        "    \n",
        "## -- check your output by uncommenting the lines below -- ##\n",
        "# inst_asm = loadsave_arg_reorder(inst_asm)\n",
        "# print_asm_inst(inst_asm)"
      ]
    },
    {
      "cell_type": "markdown",
      "metadata": {},
      "source": [
        "## **Task 5**\n",
        "Implement a function to separate labels from instructions and save their equivalent value\n",
        "\n",
        "_Note:_ Using `inst_asm` list as input, remove all lines that contain just labels to get the resulting list of only instructions. For the removed labels, calculate their equivalent address and store them in a dictionary called `labels`, where key will be the 'label name' and value will be its equivalent 'address'. Assume that first instruction is stored at address 0 and every instruction requires 4 bytes, therefore, the second instruction will be at address 4, third instruction will be at address 8 and so on. Also, a labels address is same as the address of its first instruction."
      ]
    },
    {
      "cell_type": "code",
      "execution_count": null,
      "metadata": {
        "trusted": true
      },
      "outputs": [],
      "source": [
        "def seperate_labels(inst_asm):\n",
        "    labels = dict() # dictionary to store the label name and its equivalent address as a key-value pair\n",
        "    # -- enter your code here\n",
        "  \n",
        "    # -- end your code here\n",
        "    \n",
        "## -- check your output by uncommenting the lines below -- ##\n",
        "# inst_asm, labels = seperate_labels(inst_asm)\n",
        "# print_asm_inst(inst_asm)\n",
        "# print('-'*30)\n",
        "# print_asm_labels(labels)"
      ]
    },
    {
      "cell_type": "markdown",
      "metadata": {},
      "source": [
        "## **Task 6**\n",
        "Implement a function to replace all integers in string format to `int` data type\n",
        "\n",
        "_Note:_ Using `inst_asm` list as input, find integers in each instruction and change their data type from `string` to `int`"
      ]
    },
    {
      "cell_type": "code",
      "execution_count": null,
      "metadata": {
        "trusted": true
      },
      "outputs": [],
      "source": [
        "def replace_string_int(inst_asm):\n",
        "    # -- enter your code here\n",
        " \n",
        "    # -- end your code here\n",
        "    \n",
        "## -- check your output by uncommenting the lines below -- ##\n",
        "# inst_asm = replace_string_int(inst_asm)\n",
        "# print_asm_inst(inst_asm)\n",
        "# print('-'*30)\n",
        "# print_asm_labels(labels)"
      ]
    },
    {
      "cell_type": "markdown",
      "metadata": {},
      "source": [
        "## **Task 7**\n",
        "Implement a function to replace all the labels in instructions to their equivalent values\n",
        "\n",
        "_Note:_ Using `inst_asm` list as input, find labels in each instruction and replace them with their equivalent value.\n",
        "\n",
        "_Example:_ If there is an instruction **['bge', 'a0', 'a1', 'done']** at address 8 and label `done` is at address 20 (as calculated from Task 5), then the resulting instruction will be **['bge', 'a0', 'a1', 12]**"
      ]
    },
    {
      "cell_type": "code",
      "execution_count": null,
      "metadata": {
        "trusted": true
      },
      "outputs": [],
      "source": [
        "def replace_labels(inst_asm, labels):\n",
        "    # -- enter your code here\n",
        " \n",
        "    # -- end your code here\n",
        "    \n",
        "## -- check your output by uncommenting the lines below -- ##\n",
        "# inst_asm = replace_labels(inst_asm, labels)\n",
        "# print_asm_inst(inst_asm)\n",
        "# print('-'*30)\n",
        "# print_asm_labels(labels)"
      ]
    },
    {
      "cell_type": "markdown",
      "metadata": {},
      "source": [
        "## **Task 8**\n",
        "Implement a function to replace all the register names with their equivalent values\n",
        "\n",
        "_Note:_ Use the function `get_reg_value()`, already implemented for you to replace register names with their equivalent values"
      ]
    },
    {
      "cell_type": "code",
      "execution_count": null,
      "metadata": {
        "trusted": true
      },
      "outputs": [],
      "source": [
        "def replace_reg(inst_asm):\n",
        "    # -- enter your code here\n",
        " \n",
        "    # -- end your code here\n",
        "    \n",
        "## -- check your output by uncommenting the lines below -- ##\n",
        "# inst_asm = replace_reg(inst_asm)\n",
        "# print_asm_inst(inst_asm)\n",
        "# print('-'*30)\n",
        "# print_asm_labels(labels)"
      ]
    },
    {
      "cell_type": "markdown",
      "metadata": {},
      "source": [
        "## **Task 9**\n",
        "Implement a function to save the processed assembly code to a `.txt` file"
      ]
    },
    {
      "cell_type": "code",
      "execution_count": null,
      "metadata": {
        "trusted": true
      },
      "outputs": [],
      "source": [
        "def save_asm(inst_asm, filename):\n",
        "    # -- enter your code here\n",
        "\n",
        "    # -- end your code here\n",
        "\n",
        "## -- save your final output to a .txt file by uncommenting the lines below -- ##\n",
        "# save_asm(inst_asm, filename[:-4]+\"_out1.txt\")"
      ]
    }
  ],
  "metadata": {
    "kernelspec": {
      "display_name": "Python (Pyodide)",
      "language": "python",
      "name": "python"
    },
    "language_info": {
      "codemirror_mode": {
        "name": "python",
        "version": 3
      },
      "file_extension": ".py",
      "mimetype": "text/x-python",
      "name": "python",
      "nbconvert_exporter": "python",
      "pygments_lexer": "ipython3",
      "version": "3.8"
    },
    "vscode": {
      "interpreter": {
        "hash": "e2e92650d63988db45fc378b227a6e97680a006794df01d5c7777c5215e8a3ec"
      }
    }
  },
  "nbformat": 4,
  "nbformat_minor": 4
}
